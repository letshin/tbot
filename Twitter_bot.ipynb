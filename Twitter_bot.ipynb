{
 "cells": [
  {
   "cell_type": "code",
   "execution_count": 9,
   "metadata": {},
   "outputs": [],
   "source": [
    "# Import dependencies\n",
    "# conda install --channel conda-forge selenium\n",
    "from selenium import webdriver\n",
    "from selenium.webdriver.common.action_chains import ActionChains \n",
    "from selenium.webdriver.common.keys import Keys\n",
    "from selenium.webdriver.support import expected_conditions as EC\n",
    "from selenium.webdriver.support.ui import WebDriverWait\n",
    "from selenium.webdriver.common.by import By\n",
    "import time\n",
    "driver = webdriver.Firefox(executable_path=r'C:\\Users\\leong\\python_data\\amazon_reviews_scraping\\amazon_reviews_scraping\\spiders\\geckodriver.exe')"
   ]
  },
  {
   "cell_type": "code",
   "execution_count": 10,
   "metadata": {},
   "outputs": [],
   "source": [
    "class TwitterBot:\n",
    "\n",
    "    def __init__(self, username, password):     \n",
    "        self.username = username\n",
    "        self.password = password\n",
    "        self.bot = driver\n",
    "        \n",
    "    def login(self):\n",
    "        bot = self.bot\n",
    "        bot.get('https://twitter.com/login')\n",
    "        time.sleep(5)\n",
    "        \n",
    "        # email = bot.find_element_by_class_name('email-input')\n",
    "        email = bot.find_element_by_name('session[username_or_email]')\n",
    "        password = bot.find_element_by_name('session[password]')\n",
    "        \n",
    "        email.clear()\n",
    "        password.clear()\n",
    "        \n",
    "        email.send_keys(self.username)\n",
    "        time.sleep(1)\n",
    "        password.send_keys(self.password)\n",
    "        password.send_keys(Keys.RETURN)\n",
    "        time.sleep(3)\n",
    "        \n",
    "    def like_tweet(self, hashtag):\n",
    "        bot = self.bot\n",
    "        bot.get('https://twitter.com/search?q='+hashtag+'&src=typd')\n",
    "        time.sleep(5)\n",
    "        \n",
    "        for i in range(1,3):\n",
    "            bot.execute_script('window.scrollTo(0, document.body.scrollHeight)')\n",
    "            time.sleep(5)\n",
    "            likeButtons = bot.find_elements_by_xpath(\"//div[@data-testid='like']\")\n",
    "            print('likebuttons length is: ', len(likeButtons))\n",
    "            \n",
    "            for x in range(len(likeButtons)):\n",
    "                try:\n",
    "                    likeButtons2 = bot.find_elements_by_xpath(\"//div[@data-testid='like']\")\n",
    "                    print('xpath element is: ', x)\n",
    "                    print(likeButtons2[x])\n",
    "                    print('scrolling so element is in view: ')\n",
    "                    coordinates = likeButtons2[x].location_once_scrolled_into_view # returns dict of X, Y coordinates\n",
    "                    bot.execute_script('window.scrollTo({}, {});'.format(coordinates['x'], coordinates['y']))                 \n",
    "                    print('moving and clicking: ')\n",
    "                    likeButtons2[x].click\n",
    "                    time.sleep(5)    \n",
    "                except Exception as ex:\n",
    "                    print(\"error\")\n",
    "                    time.sleep(10)\n",
    "                    \n",
    "    def like_temp(self, hashtag):\n",
    "        bot = self.bot\n",
    "        bot.get('https://twitter.com/search?q='+hashtag+'&src=typd')\n",
    "        time.sleep(5)\n",
    "        try:\n",
    "            # bot.execute_script('window.scrollTo(0, document.body.scrollHeight)')\n",
    "            # wait = WebDriverWait(driver, 5)\n",
    "            xpath = \"//div[@data-testid='like']\"\n",
    "            # element = wait.until(EC.element_to_be_clickable((By.XPATH, xpath)))\n",
    "            likeButtons = bot.find_elements_by_xpath(xpath)\n",
    "            print(\"length of elements is:\", len(likeButtons))\n",
    "            # coords = []\n",
    "            # for x in range(len(likeButtons)):\n",
    "            #     coords.append(likeButtons[x].location_once_scrolled_into_view) # webdriver function for (X,Y) coords\n",
    "            # for x in coords:\n",
    "            #     print(x)\n",
    "            # bot.execute_script('window.scrollTo({}, {});'.format(coords[0]['x'], coords[0]['y']))\n",
    "            print(\"clicking like\")\n",
    "            likeButtons[0].click()\n",
    "            print(\"Done\")\n",
    "        except Exception as ex:\n",
    "            print(\"Error\")\n",
    "         \n",
    "    def quit(self): \n",
    "        bot = self.bot\n",
    "        print(\"Quitting Selenium\")\n",
    "        bot.quit()\n",
    "        \n",
    "    def like_temp1(self, hashtag):\n",
    "        bot = self.bot\n",
    "        bot.get('https://twitter.com/search?q='+hashtag+'&src=typd')\n",
    "        time.sleep(5)\n",
    "        bot.execute_script('window.scrollTo(0, document.body.scrollHeight)')\n",
    "        time.sleep(1)\n",
    "        bot.execute_script('window.scrollTo(0, document.body.scrollHeight)')\n",
    "        time.sleep(1)\n",
    "        wait = WebDriverWait(bot, 20)\n",
    "        xpath = \"//div[@data-testid='like']\"   \n",
    "        while True:               \n",
    "            wait.until(EC.element_to_be_clickable((By.XPATH, xpath)))\n",
    "            elements = bot.find_elements_by_xpath(xpath)\n",
    "            counter = len(elements)\n",
    "            print(counter)\n",
    "            if counter > 10:\n",
    "                break\n",
    "        wait.until(EC.element_to_be_clickable((By.XPATH, xpath)))\n",
    "        temp = bot.find_elements_by_xpath(xpath)\n",
    "        wait.until(EC.element_to_be_clickable(temp[1]))\n",
    "        likeButtons = bot.find_elements_by_xpath(xpath)\n",
    "        print(\"length of elements is:\", len(likeButtons))\n",
    "        coords = []\n",
    "        print(\"Getting coords\")\n",
    "        for x in range(len(likeButtons)):\n",
    "            coords.append(likeButtons[x].location_once_scrolled_into_view) # webdriver function for (X,Y) coords\n",
    "        for x in coords:\n",
    "            print(x)\n",
    "        for x in range(len(coords)):\n",
    "            print(x)\n",
    "            bot.execute_script('window.scrollTo({}, {});'.format(coords[x]['x'], coords[x]['y']))\n",
    "            time.sleep(1)\n",
    "        print(\"Done\")      \n",
    "                    "
   ]
  },
  {
   "cell_type": "code",
   "execution_count": null,
   "metadata": {
    "scrolled": true
   },
   "outputs": [],
   "source": [
    "followers = TwitterBot('crasslyunforgo1', 'U5IiGXYTVO')\n",
    "# followers.login()\n",
    "followers.like_temp('imperfectlygreen')\n",
    "followers.quit()"
   ]
  },
  {
   "cell_type": "code",
   "execution_count": 11,
   "metadata": {},
   "outputs": [
    {
     "name": "stdout",
     "output_type": "stream",
     "text": [
      "17\n"
     ]
    },
    {
     "ename": "TypeError",
     "evalue": "find_element() argument after * must be an iterable, not FirefoxWebElement",
     "output_type": "error",
     "traceback": [
      "\u001b[1;31m---------------------------------------------------------------------------\u001b[0m",
      "\u001b[1;31mTypeError\u001b[0m                                 Traceback (most recent call last)",
      "\u001b[1;32m<ipython-input-11-be3b972c1960>\u001b[0m in \u001b[0;36m<module>\u001b[1;34m\u001b[0m\n\u001b[0;32m      1\u001b[0m \u001b[0mfollowers\u001b[0m \u001b[1;33m=\u001b[0m \u001b[0mTwitterBot\u001b[0m\u001b[1;33m(\u001b[0m\u001b[1;34m'crasslyunforgo1'\u001b[0m\u001b[1;33m,\u001b[0m \u001b[1;34m'U5IiGXYTVO'\u001b[0m\u001b[1;33m)\u001b[0m\u001b[1;33m\u001b[0m\u001b[1;33m\u001b[0m\u001b[0m\n\u001b[1;32m----> 2\u001b[1;33m \u001b[0mfollowers\u001b[0m\u001b[1;33m.\u001b[0m\u001b[0mlike_temp1\u001b[0m\u001b[1;33m(\u001b[0m\u001b[1;34m'organicfood'\u001b[0m\u001b[1;33m)\u001b[0m\u001b[1;33m\u001b[0m\u001b[1;33m\u001b[0m\u001b[0m\n\u001b[0m",
      "\u001b[1;32m<ipython-input-10-5bbee7293a83>\u001b[0m in \u001b[0;36mlike_temp1\u001b[1;34m(self, hashtag)\u001b[0m\n\u001b[0;32m     97\u001b[0m         \u001b[0mwait\u001b[0m\u001b[1;33m.\u001b[0m\u001b[0muntil\u001b[0m\u001b[1;33m(\u001b[0m\u001b[0mEC\u001b[0m\u001b[1;33m.\u001b[0m\u001b[0melement_to_be_clickable\u001b[0m\u001b[1;33m(\u001b[0m\u001b[1;33m(\u001b[0m\u001b[0mBy\u001b[0m\u001b[1;33m.\u001b[0m\u001b[0mXPATH\u001b[0m\u001b[1;33m,\u001b[0m \u001b[0mxpath\u001b[0m\u001b[1;33m)\u001b[0m\u001b[1;33m)\u001b[0m\u001b[1;33m)\u001b[0m\u001b[1;33m\u001b[0m\u001b[1;33m\u001b[0m\u001b[0m\n\u001b[0;32m     98\u001b[0m         \u001b[0mtemp\u001b[0m \u001b[1;33m=\u001b[0m \u001b[0mbot\u001b[0m\u001b[1;33m.\u001b[0m\u001b[0mfind_elements_by_xpath\u001b[0m\u001b[1;33m(\u001b[0m\u001b[0mxpath\u001b[0m\u001b[1;33m)\u001b[0m\u001b[1;33m\u001b[0m\u001b[1;33m\u001b[0m\u001b[0m\n\u001b[1;32m---> 99\u001b[1;33m         \u001b[0mwait\u001b[0m\u001b[1;33m.\u001b[0m\u001b[0muntil\u001b[0m\u001b[1;33m(\u001b[0m\u001b[0mEC\u001b[0m\u001b[1;33m.\u001b[0m\u001b[0melement_to_be_clickable\u001b[0m\u001b[1;33m(\u001b[0m\u001b[0mtemp\u001b[0m\u001b[1;33m[\u001b[0m\u001b[1;36m1\u001b[0m\u001b[1;33m]\u001b[0m\u001b[1;33m)\u001b[0m\u001b[1;33m)\u001b[0m\u001b[1;33m\u001b[0m\u001b[1;33m\u001b[0m\u001b[0m\n\u001b[0m\u001b[0;32m    100\u001b[0m         \u001b[0mlikeButtons\u001b[0m \u001b[1;33m=\u001b[0m \u001b[0mbot\u001b[0m\u001b[1;33m.\u001b[0m\u001b[0mfind_elements_by_xpath\u001b[0m\u001b[1;33m(\u001b[0m\u001b[0mxpath\u001b[0m\u001b[1;33m)\u001b[0m\u001b[1;33m\u001b[0m\u001b[1;33m\u001b[0m\u001b[0m\n\u001b[0;32m    101\u001b[0m         \u001b[0mprint\u001b[0m\u001b[1;33m(\u001b[0m\u001b[1;34m\"length of elements is:\"\u001b[0m\u001b[1;33m,\u001b[0m \u001b[0mlen\u001b[0m\u001b[1;33m(\u001b[0m\u001b[0mlikeButtons\u001b[0m\u001b[1;33m)\u001b[0m\u001b[1;33m)\u001b[0m\u001b[1;33m\u001b[0m\u001b[1;33m\u001b[0m\u001b[0m\n",
      "\u001b[1;32m~\\python_data\\anaconda3\\envs\\perfermento\\lib\\site-packages\\selenium\\webdriver\\support\\wait.py\u001b[0m in \u001b[0;36muntil\u001b[1;34m(self, method, message)\u001b[0m\n\u001b[0;32m     69\u001b[0m         \u001b[1;32mwhile\u001b[0m \u001b[1;32mTrue\u001b[0m\u001b[1;33m:\u001b[0m\u001b[1;33m\u001b[0m\u001b[1;33m\u001b[0m\u001b[0m\n\u001b[0;32m     70\u001b[0m             \u001b[1;32mtry\u001b[0m\u001b[1;33m:\u001b[0m\u001b[1;33m\u001b[0m\u001b[1;33m\u001b[0m\u001b[0m\n\u001b[1;32m---> 71\u001b[1;33m                 \u001b[0mvalue\u001b[0m \u001b[1;33m=\u001b[0m \u001b[0mmethod\u001b[0m\u001b[1;33m(\u001b[0m\u001b[0mself\u001b[0m\u001b[1;33m.\u001b[0m\u001b[0m_driver\u001b[0m\u001b[1;33m)\u001b[0m\u001b[1;33m\u001b[0m\u001b[1;33m\u001b[0m\u001b[0m\n\u001b[0m\u001b[0;32m     72\u001b[0m                 \u001b[1;32mif\u001b[0m \u001b[0mvalue\u001b[0m\u001b[1;33m:\u001b[0m\u001b[1;33m\u001b[0m\u001b[1;33m\u001b[0m\u001b[0m\n\u001b[0;32m     73\u001b[0m                     \u001b[1;32mreturn\u001b[0m \u001b[0mvalue\u001b[0m\u001b[1;33m\u001b[0m\u001b[1;33m\u001b[0m\u001b[0m\n",
      "\u001b[1;32m~\\python_data\\anaconda3\\envs\\perfermento\\lib\\site-packages\\selenium\\webdriver\\support\\expected_conditions.py\u001b[0m in \u001b[0;36m__call__\u001b[1;34m(self, driver)\u001b[0m\n\u001b[0;32m    295\u001b[0m \u001b[1;33m\u001b[0m\u001b[0m\n\u001b[0;32m    296\u001b[0m     \u001b[1;32mdef\u001b[0m \u001b[0m__call__\u001b[0m\u001b[1;33m(\u001b[0m\u001b[0mself\u001b[0m\u001b[1;33m,\u001b[0m \u001b[0mdriver\u001b[0m\u001b[1;33m)\u001b[0m\u001b[1;33m:\u001b[0m\u001b[1;33m\u001b[0m\u001b[1;33m\u001b[0m\u001b[0m\n\u001b[1;32m--> 297\u001b[1;33m         \u001b[0melement\u001b[0m \u001b[1;33m=\u001b[0m \u001b[0mvisibility_of_element_located\u001b[0m\u001b[1;33m(\u001b[0m\u001b[0mself\u001b[0m\u001b[1;33m.\u001b[0m\u001b[0mlocator\u001b[0m\u001b[1;33m)\u001b[0m\u001b[1;33m(\u001b[0m\u001b[0mdriver\u001b[0m\u001b[1;33m)\u001b[0m\u001b[1;33m\u001b[0m\u001b[1;33m\u001b[0m\u001b[0m\n\u001b[0m\u001b[0;32m    298\u001b[0m         \u001b[1;32mif\u001b[0m \u001b[0melement\u001b[0m \u001b[1;32mand\u001b[0m \u001b[0melement\u001b[0m\u001b[1;33m.\u001b[0m\u001b[0mis_enabled\u001b[0m\u001b[1;33m(\u001b[0m\u001b[1;33m)\u001b[0m\u001b[1;33m:\u001b[0m\u001b[1;33m\u001b[0m\u001b[1;33m\u001b[0m\u001b[0m\n\u001b[0;32m    299\u001b[0m             \u001b[1;32mreturn\u001b[0m \u001b[0melement\u001b[0m\u001b[1;33m\u001b[0m\u001b[1;33m\u001b[0m\u001b[0m\n",
      "\u001b[1;32m~\\python_data\\anaconda3\\envs\\perfermento\\lib\\site-packages\\selenium\\webdriver\\support\\expected_conditions.py\u001b[0m in \u001b[0;36m__call__\u001b[1;34m(self, driver)\u001b[0m\n\u001b[0;32m    126\u001b[0m     \u001b[1;32mdef\u001b[0m \u001b[0m__call__\u001b[0m\u001b[1;33m(\u001b[0m\u001b[0mself\u001b[0m\u001b[1;33m,\u001b[0m \u001b[0mdriver\u001b[0m\u001b[1;33m)\u001b[0m\u001b[1;33m:\u001b[0m\u001b[1;33m\u001b[0m\u001b[1;33m\u001b[0m\u001b[0m\n\u001b[0;32m    127\u001b[0m         \u001b[1;32mtry\u001b[0m\u001b[1;33m:\u001b[0m\u001b[1;33m\u001b[0m\u001b[1;33m\u001b[0m\u001b[0m\n\u001b[1;32m--> 128\u001b[1;33m             \u001b[1;32mreturn\u001b[0m \u001b[0m_element_if_visible\u001b[0m\u001b[1;33m(\u001b[0m\u001b[0m_find_element\u001b[0m\u001b[1;33m(\u001b[0m\u001b[0mdriver\u001b[0m\u001b[1;33m,\u001b[0m \u001b[0mself\u001b[0m\u001b[1;33m.\u001b[0m\u001b[0mlocator\u001b[0m\u001b[1;33m)\u001b[0m\u001b[1;33m)\u001b[0m\u001b[1;33m\u001b[0m\u001b[1;33m\u001b[0m\u001b[0m\n\u001b[0m\u001b[0;32m    129\u001b[0m         \u001b[1;32mexcept\u001b[0m \u001b[0mStaleElementReferenceException\u001b[0m\u001b[1;33m:\u001b[0m\u001b[1;33m\u001b[0m\u001b[1;33m\u001b[0m\u001b[0m\n\u001b[0;32m    130\u001b[0m             \u001b[1;32mreturn\u001b[0m \u001b[1;32mFalse\u001b[0m\u001b[1;33m\u001b[0m\u001b[1;33m\u001b[0m\u001b[0m\n",
      "\u001b[1;32m~\\python_data\\anaconda3\\envs\\perfermento\\lib\\site-packages\\selenium\\webdriver\\support\\expected_conditions.py\u001b[0m in \u001b[0;36m_find_element\u001b[1;34m(driver, by)\u001b[0m\n\u001b[0;32m    409\u001b[0m     if thrown.\"\"\"\n\u001b[0;32m    410\u001b[0m     \u001b[1;32mtry\u001b[0m\u001b[1;33m:\u001b[0m\u001b[1;33m\u001b[0m\u001b[1;33m\u001b[0m\u001b[0m\n\u001b[1;32m--> 411\u001b[1;33m         \u001b[1;32mreturn\u001b[0m \u001b[0mdriver\u001b[0m\u001b[1;33m.\u001b[0m\u001b[0mfind_element\u001b[0m\u001b[1;33m(\u001b[0m\u001b[1;33m*\u001b[0m\u001b[0mby\u001b[0m\u001b[1;33m)\u001b[0m\u001b[1;33m\u001b[0m\u001b[1;33m\u001b[0m\u001b[0m\n\u001b[0m\u001b[0;32m    412\u001b[0m     \u001b[1;32mexcept\u001b[0m \u001b[0mNoSuchElementException\u001b[0m \u001b[1;32mas\u001b[0m \u001b[0me\u001b[0m\u001b[1;33m:\u001b[0m\u001b[1;33m\u001b[0m\u001b[1;33m\u001b[0m\u001b[0m\n\u001b[0;32m    413\u001b[0m         \u001b[1;32mraise\u001b[0m \u001b[0me\u001b[0m\u001b[1;33m\u001b[0m\u001b[1;33m\u001b[0m\u001b[0m\n",
      "\u001b[1;31mTypeError\u001b[0m: find_element() argument after * must be an iterable, not FirefoxWebElement"
     ]
    }
   ],
   "source": [
    "followers = TwitterBot('crasslyunforgo1', 'U5IiGXYTVO')\n",
    "followers.like_temp1('organicfood')"
   ]
  },
  {
   "cell_type": "code",
   "execution_count": null,
   "metadata": {},
   "outputs": [],
   "source": []
  }
 ],
 "metadata": {
  "kernelspec": {
   "display_name": "Python 3",
   "language": "python",
   "name": "python3"
  },
  "language_info": {
   "codemirror_mode": {
    "name": "ipython",
    "version": 3
   },
   "file_extension": ".py",
   "mimetype": "text/x-python",
   "name": "python",
   "nbconvert_exporter": "python",
   "pygments_lexer": "ipython3",
   "version": "3.8.5"
  }
 },
 "nbformat": 4,
 "nbformat_minor": 4
}
